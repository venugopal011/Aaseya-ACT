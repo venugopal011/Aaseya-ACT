{
 "cells": [
  {
   "cell_type": "code",
   "execution_count": 11,
   "id": "5a1c815c-3d5d-4bc2-9380-08b031273431",
   "metadata": {},
   "outputs": [
    {
     "name": "stdout",
     "output_type": "stream",
     "text": [
      "Number of users per continent:\n",
      "{'Europe': 7, 'Asia': 5, 'Central America': 1, 'Australia': 1, 'North America': 2, 'South America': 1, 'Africa': 1}\n"
     ]
    }
   ],
   "source": [
    "#1. Exercise: Counting Elements in Tuples and Dictionaries\n",
    "#You are given two data structures:\n",
    "#users – A list of forum users' names along with their nationalities (i.e. a list of tuples).\n",
    "#nationality_to_continents – A dictionary in which nationalities are keys and continents are values.\n",
    "#Ask: Create a dictionary named users_continents and use it to store the number of users for each continent in the following form:\n",
    "#users_continents = {'Europe': 3, 'Asia': 4, 'North America': 2}\n",
    "#Use the following data in your solution:\n",
    "\n",
    "users = [\n",
    "    ('Maria', 'Greek'), ('Jean', 'Maltese'),\n",
    "    ('Juan', 'Spanish'), ('Dima', 'Ukrainian'),\n",
    "    ('Agata', 'Thai'), ('Rafal', 'Polish'),\n",
    "    ('Diego', 'Turkish'), ('Stan', 'Panamanian'),\n",
    "    ('John', 'Australian'), ('Frank', 'Belgian'),\n",
    "    ('Jane', 'Canadian'), ('Paul', 'Argentinian'),\n",
    "    ('Taylor', 'Danish'), ('Kate', 'American'),\n",
    "    ('Mark', 'Sri Lankan'), ('Jane', 'Japanese'),\n",
    "    ('Ted', 'Indian'), ('Jean', 'Egyptian')\n",
    "]\n",
    "\n",
    "nationality_to_continents = {\n",
    "    'Greek': 'Europe', 'Maltese': 'Europe',\n",
    "    'Spanish': 'Europe', 'Ukrainian': 'Europe',\n",
    "    'Thai': 'Asia', 'Polish': 'Europe',\n",
    "    'Turkish': 'Asia', 'Panamanian': 'Central America',\n",
    "    'Australian': 'Australia', 'Belgian': 'Europe',\n",
    "    'Canadian': 'North America', 'Argentinian': 'South America',\n",
    "    'Danish': 'Europe', 'American': 'North America',\n",
    "    'Sri Lankan': 'Asia', 'Japanese': 'Asia',\n",
    "    'Indian': 'Asia', 'Egyptian': 'Africa'\n",
    "}\n",
    "users_continents = {}\n",
    "for user in users:\n",
    "    name = user[0]\n",
    "    nationality = user[1]\n",
    "    continent = nationality_to_continents[nationality]\n",
    "    if continent in users_continents:\n",
    "        users_continents[continent] += 1\n",
    "    else:\n",
    "        users_continents[continent] = 1\n",
    "print(\"Number of users per continent:\")\n",
    "print(users_continents)\n"
   ]
  },
  {
   "cell_type": "code",
   "execution_count": 3,
   "id": "a71db4d4-1b78-48d1-9c45-a4941a97438b",
   "metadata": {},
   "outputs": [
    {
     "name": "stdout",
     "output_type": "stream",
     "text": [
      "[('Leslie Burton', 'HR Specialist', 2300), ('Dorothy Castillo', 'UX Designer', 3100)]\n"
     ]
    }
   ],
   "source": [
    "#2. Create a funcion named remove_sql_specialists(people_list). Given a list of tuples, \n",
    "#it removes people whose job titles contain the word \"SQL\" from the list. You can use the in operator to check if a \n",
    "#given job title contains the word \"SQL\". Use the following data containing employee names, job titles, and salaries:\n",
    "\n",
    "def remove_sql_specialists(people_list):\n",
    "    new_list = []\n",
    "    for person in people_list:\n",
    "        # person[1] is the job title\n",
    "        if \"SQL\" not in person[1]:\n",
    "            new_list.append(person)\n",
    "    return new_list\n",
    "new_hires = [\n",
    "    ('Mark Adams', 'SQL Analyst', 4000),\n",
    "    ('Leslie Burton', 'HR Specialist', 2300),\n",
    "    ('Dorothy Castillo','UX Designer', 3100)\n",
    "]\n",
    "result = remove_sql_specialists(new_hires)\n",
    "print(result)\n"
   ]
  },
  {
   "cell_type": "code",
   "execution_count": 4,
   "id": "a175f638-8453-4154-b46b-9704841adad7",
   "metadata": {},
   "outputs": [
    {
     "name": "stdin",
     "output_type": "stream",
     "text": [
      "Enter a string:  Dharun\n"
     ]
    },
    {
     "name": "stdout",
     "output_type": "stream",
     "text": [
      "Letters: 6\n",
      "Digits: 0\n"
     ]
    }
   ],
   "source": [
    "#3. Python program that accepts a string and calculates the number of digits and letters. [take string input from user]\n",
    "\n",
    "text = input(\"Enter a string: \")\n",
    "letter_count = 0\n",
    "digit_count = 0\n",
    "for char in text:\n",
    "    if char.isalpha():\n",
    "        letter_count += 1\n",
    "    elif char.isdigit():\n",
    "        digit_count += 1\n",
    "print(\"Letters:\", letter_count)\n",
    "print(\"Digits:\", digit_count)"
   ]
  },
  {
   "cell_type": "code",
   "execution_count": 10,
   "id": "08adc3b5-0b61-4f47-82fa-f156ce194f76",
   "metadata": {},
   "outputs": [
    {
     "name": "stdout",
     "output_type": "stream",
     "text": [
      "200,202,204,206,208,220,222,224,226,228,240,242,244,246,248,260,262,264,266,268,280,282,284,286,288,400\n"
     ]
    }
   ],
   "source": [
    "# 4. Write a Python program to find numbers between 100 and 400 (both included) where each digit of a number is an even number. \n",
    "#The numbers obtained should be printed in a comma-separated sequence.\n",
    "\n",
    "EvenDigitNumbers = []\n",
    "for number in range(100, 401):\n",
    "    NumStr = str(number)\n",
    "    if (int(NumStr[0]) % 2 == 0 and\n",
    "        int(NumStr[1]) % 2 == 0 and\n",
    "        int(NumStr[2]) % 2 == 0):\n",
    "        EvenDigitNumbers .append(NumStr)\n",
    "\n",
    "print(\",\".join(EvenDigitNumbers))"
   ]
  },
  {
   "cell_type": "code",
   "execution_count": 9,
   "id": "2e16e6ac-cef3-432e-a51d-bb573bcc11d7",
   "metadata": {},
   "outputs": [
    {
     "name": "stdout",
     "output_type": "stream",
     "text": [
      "Enter 5 numbers:\n"
     ]
    },
    {
     "name": "stdin",
     "output_type": "stream",
     "text": [
      "Enter number 1:  28\n",
      "Enter number 2:  34\n",
      "Enter number 3:  98\n",
      "Enter number 4:  96\n",
      "Enter number 5:  56\n"
     ]
    },
    {
     "name": "stdout",
     "output_type": "stream",
     "text": [
      "The median is: 56.0\n"
     ]
    }
   ],
   "source": [
    "#5. Write a Python program to find the median of five values.[As given by users]\n",
    "\n",
    "numbers = []\n",
    "print(\"Enter 5 numbers:\")\n",
    "for i in range(5):\n",
    "    num = float(input(f\"Enter number {i+1}: \"))\n",
    "    numbers.append(num)\n",
    "numbers.sort()\n",
    "median = numbers[2]\n",
    "print(\"The median is:\", median)\n"
   ]
  },
  {
   "cell_type": "code",
   "execution_count": null,
   "id": "e3b33b39-126e-4b52-8aec-be224fb29bb3",
   "metadata": {},
   "outputs": [],
   "source": []
  }
 ],
 "metadata": {
  "kernelspec": {
   "display_name": "Python 3 (ipykernel)",
   "language": "python",
   "name": "python3"
  },
  "language_info": {
   "codemirror_mode": {
    "name": "ipython",
    "version": 3
   },
   "file_extension": ".py",
   "mimetype": "text/x-python",
   "name": "python",
   "nbconvert_exporter": "python",
   "pygments_lexer": "ipython3",
   "version": "3.12.7"
  }
 },
 "nbformat": 4,
 "nbformat_minor": 5
}
